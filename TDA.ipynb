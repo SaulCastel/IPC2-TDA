{
  "nbformat": 4,
  "nbformat_minor": 0,
  "metadata": {
    "colab": {
      "name": "TDA.ipynb",
      "provenance": [],
      "collapsed_sections": [],
      "mount_file_id": "1U8MbcH8H5hBrqh79IbIUdyOSwI9WmgVP",
      "authorship_tag": "ABX9TyNTe0PRFizhET61Ve16GxlN",
      "include_colab_link": true
    },
    "kernelspec": {
      "name": "python3",
      "display_name": "Python 3"
    }
  },
  "cells": [
    {
      "cell_type": "markdown",
      "metadata": {
        "id": "view-in-github",
        "colab_type": "text"
      },
      "source": [
        "<a href=\"https://colab.research.google.com/github/SaulCastel/IPC2-TDA/blob/main/TDA.ipynb\" target=\"_parent\"><img src=\"https://colab.research.google.com/assets/colab-badge.svg\" alt=\"Open In Colab\"/></a>"
      ]
    },
    {
      "cell_type": "markdown",
      "metadata": {
        "id": "ouWHHbI5dJs-"
      },
      "source": [
        "**Ejercicio de listas enlazadas**"
      ]
    },
    {
      "cell_type": "code",
      "metadata": {
        "id": "3BftcPc7fFNF"
      },
      "source": [
        "class cliente:\n",
        "  \n",
        "  def __init__(self, nombre, no_habitacion):\n",
        "    self.nombre = nombre\n",
        "    self.no_habitacion = no_habitacion"
      ],
      "execution_count": 1,
      "outputs": []
    },
    {
      "cell_type": "code",
      "metadata": {
        "id": "QP-Bt19AWt2R"
      },
      "source": [
        "class node:\n",
        "  def __init__(self, cliente=None, next=None):\n",
        "    self.cliente = cliente\n",
        "    self.next = next"
      ],
      "execution_count": null,
      "outputs": []
    },
    {
      "cell_type": "code",
      "metadata": {
        "id": "bzYwK-HDYIiw"
      },
      "source": [
        "class linked_list:\n",
        "  def __init__(self):\n",
        "    self.head = None\n",
        "\n",
        "  def insertar(self, cliente):\n",
        "    if not self.head:\n",
        "      self.head = node(cliente=cliente)\n",
        "      return\n",
        "    current = self.head\n",
        "    while current.next:\n",
        "      current = current.next\n",
        "    current.next = node(cliente=cliente)\n",
        "\n",
        "  def imprimir(self):\n",
        "    node = self.head\n",
        "    while node != None:\n",
        "      print(node.cliente.nombre, end=\"-->\")\n",
        "      node = node.next\n",
        "  \n",
        "  def eliminar(self, no_habitacion):\n",
        "    current = self.head\n",
        "    previous = None\n",
        "\n",
        "    while current and current.cliente.no_habitacion != no_habitacion:\n",
        "      previous = current\n",
        "      current = current.next\n",
        "\n",
        "    if previous is None:\n",
        "      self.head = current.next\n",
        "    elif current:\n",
        "      previous.next = current.next\n",
        "      current.next = None"
      ],
      "execution_count": null,
      "outputs": []
    },
    {
      "cell_type": "code",
      "metadata": {
        "id": "mb6N5vB9cv1m"
      },
      "source": [
        "c1 = cliente(\"Estuardo Zapeta\", 101)\n",
        "c2 = cliente(\"Marco López\", 102)\n",
        "c3 = cliente(\"Josue Armas\", 103)\n",
        "c4 = cliente(\"Gladys Olmos\", 104)"
      ],
      "execution_count": null,
      "outputs": []
    },
    {
      "cell_type": "code",
      "metadata": {
        "id": "DLPvcl_1dPev"
      },
      "source": [
        "lista = linked_list()\n",
        "lista.insertar(c1)\n",
        "lista.insertar(c2)\n",
        "lista.insertar(c3)\n",
        "lista.insertar(c4)"
      ],
      "execution_count": null,
      "outputs": []
    },
    {
      "cell_type": "code",
      "metadata": {
        "colab": {
          "base_uri": "https://localhost:8080/"
        },
        "id": "r7fEgS8CfR0F",
        "outputId": "5e29b112-6c58-4eb5-ae1e-53830b03abef"
      },
      "source": [
        "lista.imprimir()\n",
        "lista.eliminar(104)\n",
        "print()\n",
        "lista.imprimir()"
      ],
      "execution_count": null,
      "outputs": [
        {
          "output_type": "stream",
          "text": [
            "Estuardo Zapeta-->Marco López-->Josue Armas-->Gladys Olmos-->\n",
            "Estuardo Zapeta-->Marco López-->Josue Armas-->"
          ],
          "name": "stdout"
        }
      ]
    },
    {
      "cell_type": "markdown",
      "metadata": {
        "id": "4RT1E4-oolW8"
      },
      "source": [
        "**EJERCICIO LISTAS CIRCULARES**"
      ]
    },
    {
      "cell_type": "code",
      "metadata": {
        "id": "6QlQ1EDwopkD"
      },
      "source": [
        "class linked_list_circular:\n",
        "  def __init__(self, head = None):\n",
        "    self.head = head\n",
        "    self.size = 0\n",
        "  \n",
        "  \n",
        "  def insertar (self, cliente):\n",
        "    if self.size == 0:\n",
        "      self.head = node(cliente = cliente)\n",
        "      self.head.next = self.head  \n",
        "    else:\n",
        "      new_node = node(cliente = cliente, next=self.head.next)\n",
        "      self.head.next = new_node\n",
        "    self.size += 1\n",
        "\n",
        "  def imprimir (self):\n",
        "    if self.head is None:\n",
        "      return\n",
        "    node = self.head\n",
        "    print(node.cliente.nombre, end = \" => \")\n",
        "    while node.next != self.head:\n",
        "      node = node.next\n",
        "      print(node.cliente.nombre, end = \" => \")\n",
        "\n",
        "  def eliminar (self, no_habitacion):\n",
        "    node = self.head\n",
        "    previous =  None\n",
        "    \n",
        "    while True:\n",
        "      if node.cliente.no_habitacion == no_habitacion:\n",
        "        if previous is not None:\n",
        "          previous.next = node.next\n",
        "        else:\n",
        "          while node.next != self.head:\n",
        "            node = node.next\n",
        "          node.next = self.head.next\n",
        "          self.head = self.head.next\n",
        "        self.size -= 1\n",
        "        return True\n",
        "      elif node.next == self.head:\n",
        "        return False\n",
        "      previous = node\n",
        "      node = node.next\n"
      ],
      "execution_count": null,
      "outputs": []
    },
    {
      "cell_type": "code",
      "metadata": {
        "id": "uFPj7OaHRYS2"
      },
      "source": [
        "lista_c = linked_list_circular()\n",
        "lista_c.insertar(c1)\n",
        "lista_c.insertar(c2)\n",
        "lista_c.insertar(c3)\n",
        "lista_c.insertar(c4)"
      ],
      "execution_count": null,
      "outputs": []
    },
    {
      "cell_type": "code",
      "metadata": {
        "colab": {
          "base_uri": "https://localhost:8080/"
        },
        "id": "DuBP6jLJUkGw",
        "outputId": "47694668-85d2-4c4c-c1cd-f69afc5f40d0"
      },
      "source": [
        "lista_c.imprimir()"
      ],
      "execution_count": null,
      "outputs": [
        {
          "output_type": "stream",
          "text": [
            "Estuardo Zapeta => Gladys Olmos => Josue Armas => Marco López => "
          ],
          "name": "stdout"
        }
      ]
    },
    {
      "cell_type": "code",
      "metadata": {
        "colab": {
          "base_uri": "https://localhost:8080/"
        },
        "id": "YEfHLMvYfEk8",
        "outputId": "3b844df7-f5d5-4e0e-d6bb-f3bae7e4560f"
      },
      "source": [
        "lista_c.eliminar(101)"
      ],
      "execution_count": null,
      "outputs": [
        {
          "output_type": "execute_result",
          "data": {
            "text/plain": [
              "True"
            ]
          },
          "metadata": {
            "tags": []
          },
          "execution_count": 10
        }
      ]
    },
    {
      "cell_type": "code",
      "metadata": {
        "colab": {
          "base_uri": "https://localhost:8080/"
        },
        "id": "IcOoqHO5fVth",
        "outputId": "8faae14d-3c93-41e4-a544-add51bea5d7d"
      },
      "source": [
        "lista_c.imprimir()"
      ],
      "execution_count": null,
      "outputs": [
        {
          "output_type": "stream",
          "text": [
            "Gladys Olmos => Josue Armas => Marco López => "
          ],
          "name": "stdout"
        }
      ]
    },
    {
      "cell_type": "markdown",
      "metadata": {
        "id": "pcdSx46gjbnA"
      },
      "source": [
        "###LISTA DOBLEMENTE ENLAZADA"
      ]
    },
    {
      "cell_type": "code",
      "metadata": {
        "id": "T6evr1EFjhAs"
      },
      "source": [
        "class node_de:\n",
        "  def __init__(self, cliente=None, next=None, previous=None):\n",
        "    self.cliente = cliente\n",
        "    self.previous = previous\n",
        "    self.next = next"
      ],
      "execution_count": null,
      "outputs": []
    },
    {
      "cell_type": "code",
      "metadata": {
        "id": "PaesnVbNaLGv"
      },
      "source": [
        "class linked_list_de:\n",
        "  def __init__(self, head=None):\n",
        "    self.head = head\n",
        "    self.last = head\n",
        "    self.size = 0\n",
        "\n",
        "  def insertar (self, cliente):\n",
        "    if self.size == 0:\n",
        "      self.head = node_de(cliente = cliente)\n",
        "      self.last = self.head\n",
        "    else:\n",
        "      new_node = node_de(cliente=cliente, next=self.head)\n",
        "      self.head.previous = new_node\n",
        "      self.head = new_node\n",
        "    self.size += 1\n",
        "\n",
        "  def imprimir(self):\n",
        "    if self.head is None:\n",
        "      return\n",
        "    node = self.head\n",
        "    print(node.cliente.nombre, end = \" => \")\n",
        "    while node.next:\n",
        "      node = node.next\n",
        "      print(node.cliente.nombre, end =  \" => \")\n",
        "\n",
        "  def eliminar (self, no_habitacion):\n",
        "    node = self.head\n",
        "    while node is not None:\n",
        "      if node.cliente.no_habitacion == no_habitacion:\n",
        "        if node.previous is not None:\n",
        "          if node.next:\n",
        "            node.previous.next = node.next\n",
        "            node.next.previous = node.previous\n",
        "          else:\n",
        "            node.previous.next = None\n",
        "            self.least = node.previous\n",
        "        else:\n",
        "          self.head = node.next\n",
        "          node.next.previous = self.head\n",
        "        self.size -= 1\n",
        "        return True\n",
        "      else:\n",
        "        node = node.next\n",
        "    return False"
      ],
      "execution_count": null,
      "outputs": []
    },
    {
      "cell_type": "code",
      "metadata": {
        "id": "bqleiFnxcl83"
      },
      "source": [
        "c1 = cliente(\"Estuardo Zapeta\", 101)\n",
        "c2 = cliente(\"Marco López\", 102)\n",
        "c3 = cliente(\"Josue Armas\", 103)"
      ],
      "execution_count": null,
      "outputs": []
    },
    {
      "cell_type": "code",
      "metadata": {
        "id": "GS7SFn1icpq7"
      },
      "source": [
        "lista_de = linked_list_de()\n",
        "lista_de.insertar(c1)\n",
        "lista_de.insertar(c2)\n",
        "lista_de.insertar(c3)"
      ],
      "execution_count": null,
      "outputs": []
    },
    {
      "cell_type": "code",
      "metadata": {
        "colab": {
          "base_uri": "https://localhost:8080/"
        },
        "id": "Rg0w6nXPeKQS",
        "outputId": "884c7fa9-0f3f-4241-bee6-e296e27e6270"
      },
      "source": [
        "lista_de.imprimir()"
      ],
      "execution_count": null,
      "outputs": [
        {
          "output_type": "stream",
          "text": [
            "Josue Armas => Marco López => Estuardo Zapeta => "
          ],
          "name": "stdout"
        }
      ]
    },
    {
      "cell_type": "code",
      "metadata": {
        "colab": {
          "base_uri": "https://localhost:8080/"
        },
        "id": "YPRO8NvrnRtw",
        "outputId": "7008e4df-a7a9-4f92-ba15-d683051b021e"
      },
      "source": [
        "lista_de.eliminar(102)"
      ],
      "execution_count": null,
      "outputs": [
        {
          "output_type": "execute_result",
          "data": {
            "text/plain": [
              "True"
            ]
          },
          "metadata": {
            "tags": []
          },
          "execution_count": 32
        }
      ]
    },
    {
      "cell_type": "code",
      "metadata": {
        "colab": {
          "base_uri": "https://localhost:8080/"
        },
        "id": "T7dJkxb-nWbC",
        "outputId": "67f1928d-f764-4d57-89c3-cc737f484b60"
      },
      "source": [
        "lista_de.imprimir()"
      ],
      "execution_count": null,
      "outputs": [
        {
          "output_type": "stream",
          "text": [
            "Josue Armas => Estuardo Zapeta => "
          ],
          "name": "stdout"
        }
      ]
    },
    {
      "cell_type": "markdown",
      "metadata": {
        "id": "qt5SyDSHdgeU"
      },
      "source": [
        "###Pilas"
      ]
    },
    {
      "cell_type": "code",
      "metadata": {
        "id": "XoA_eBrRdjoA"
      },
      "source": [
        "class Pila:\n",
        "  def __init__(self):\n",
        "    self.pila = []\n",
        "\n",
        "  def apilar (self, cliente):\n",
        "    self.pila.append(cliente)\n",
        "\n",
        "  def size (self):\n",
        "    return len(self.pila)\n",
        "  def imprimir (self):\n",
        "    for item in self.pila:\n",
        "      print(item.nombre , end= \" -> \")\n",
        "  def desapilar (self):\n",
        "    if self.pila:\n",
        "      self.pila.pop()"
      ],
      "execution_count": 71,
      "outputs": []
    },
    {
      "cell_type": "code",
      "metadata": {
        "id": "x5AAx3xUdv54"
      },
      "source": [
        "c1 = cliente(\"Estuardo Zapeta\", 101)\n",
        "c2 = cliente(\"Marco López\", 102)\n",
        "c3 = cliente(\"Josue Armas\", 103)\n",
        "c4 = cliente(\"Gladys Olmos\", 104)"
      ],
      "execution_count": 72,
      "outputs": []
    },
    {
      "cell_type": "code",
      "metadata": {
        "id": "gOd_OrKJdwdJ"
      },
      "source": [
        "pila = Pila()\n",
        "pila.apilar(c1)\n",
        "pila.apilar(c2)\n",
        "pila.apilar(c3)\n",
        "pila.apilar(c4)"
      ],
      "execution_count": 73,
      "outputs": []
    },
    {
      "cell_type": "code",
      "metadata": {
        "colab": {
          "base_uri": "https://localhost:8080/"
        },
        "id": "6sFaZxPxeQEa",
        "outputId": "0c09591c-5448-4d9f-b5c9-77deefa027e5"
      },
      "source": [
        "pila.size()"
      ],
      "execution_count": 74,
      "outputs": [
        {
          "output_type": "execute_result",
          "data": {
            "text/plain": [
              "4"
            ]
          },
          "metadata": {
            "tags": []
          },
          "execution_count": 74
        }
      ]
    },
    {
      "cell_type": "code",
      "metadata": {
        "colab": {
          "base_uri": "https://localhost:8080/"
        },
        "id": "9D0mVJApfYfl",
        "outputId": "5cdc5ac5-84c9-4f79-c669-2efb2ad5a2ec"
      },
      "source": [
        "pila.imprimir()"
      ],
      "execution_count": 75,
      "outputs": [
        {
          "output_type": "stream",
          "text": [
            "Estuardo Zapeta -> Marco López -> Josue Armas -> Gladys Olmos -> "
          ],
          "name": "stdout"
        }
      ]
    },
    {
      "cell_type": "code",
      "metadata": {
        "colab": {
          "base_uri": "https://localhost:8080/"
        },
        "id": "KzEwMrVogfyK",
        "outputId": "55c7183e-50e7-403e-ba34-f8e8505a35c9"
      },
      "source": [
        "pila.desapilar()\n",
        "pila.imprimir()"
      ],
      "execution_count": 76,
      "outputs": [
        {
          "output_type": "stream",
          "text": [
            "Estuardo Zapeta -> Marco López -> Josue Armas -> "
          ],
          "name": "stdout"
        }
      ]
    },
    {
      "cell_type": "code",
      "metadata": {
        "colab": {
          "base_uri": "https://localhost:8080/"
        },
        "id": "EnpDgN1jgn9t",
        "outputId": "79f0c8e3-f918-42fc-ef64-007fb1b152c9"
      },
      "source": [
        "pila.desapilar()\n",
        "pila.imprimir()"
      ],
      "execution_count": 77,
      "outputs": [
        {
          "output_type": "stream",
          "text": [
            "Estuardo Zapeta -> Marco López -> "
          ],
          "name": "stdout"
        }
      ]
    },
    {
      "cell_type": "markdown",
      "metadata": {
        "id": "HBhjlkzTigsB"
      },
      "source": [
        "###Cola"
      ]
    },
    {
      "cell_type": "code",
      "metadata": {
        "id": "v_h_ysUhikh4"
      },
      "source": [
        "class Cola:\n",
        "  def __init__(self):\n",
        "    self.cola = []\n",
        "  def encolar (self, cliente):\n",
        "    self.cola.append(cliente)\n",
        "  def size (self):\n",
        "    return len(self.cola)\n",
        "  def imprimir (self):\n",
        "    for item in self.cola:\n",
        "      print(item.nombre, end=\" <- \")\n",
        "  def desencolar (self):\n",
        "    if self.cola:\n",
        "      self.cola.pop(0)"
      ],
      "execution_count": 66,
      "outputs": []
    },
    {
      "cell_type": "code",
      "metadata": {
        "id": "u-pfDoxyjCi1"
      },
      "source": [
        "cola = Cola()\n",
        "cola.encolar(c1)\n",
        "cola.encolar(c2)\n",
        "cola.encolar(c3)\n",
        "cola.encolar(c4)"
      ],
      "execution_count": 67,
      "outputs": []
    },
    {
      "cell_type": "code",
      "metadata": {
        "colab": {
          "base_uri": "https://localhost:8080/"
        },
        "id": "9ZnU9cLRjN4E",
        "outputId": "eca47aa7-5e37-40c9-d529-d3107a79d720"
      },
      "source": [
        "cola.size()"
      ],
      "execution_count": 68,
      "outputs": [
        {
          "output_type": "execute_result",
          "data": {
            "text/plain": [
              "4"
            ]
          },
          "metadata": {
            "tags": []
          },
          "execution_count": 68
        }
      ]
    },
    {
      "cell_type": "code",
      "metadata": {
        "colab": {
          "base_uri": "https://localhost:8080/"
        },
        "id": "WyoNgd--jhAS",
        "outputId": "7b34269d-d7a3-4178-eb32-d8cfd233fd85"
      },
      "source": [
        "cola.imprimir()"
      ],
      "execution_count": 69,
      "outputs": [
        {
          "output_type": "stream",
          "text": [
            "Estuardo Zapeta <- Marco López <- Josue Armas <- Gladys Olmos <- "
          ],
          "name": "stdout"
        }
      ]
    },
    {
      "cell_type": "code",
      "metadata": {
        "colab": {
          "base_uri": "https://localhost:8080/"
        },
        "id": "mrvjD-rEj5Ze",
        "outputId": "7d91b3de-a17c-4757-bdbf-c0217b588263"
      },
      "source": [
        "cola.desencolar()\n",
        "cola.imprimir()"
      ],
      "execution_count": 70,
      "outputs": [
        {
          "output_type": "stream",
          "text": [
            "Marco López <- Josue Armas <- Gladys Olmos <- "
          ],
          "name": "stdout"
        }
      ]
    }
  ]
}